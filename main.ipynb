{
  "nbformat": 4,
  "nbformat_minor": 0,
  "metadata": {
    "colab": {
      "provenance": [],
      "authorship_tag": "ABX9TyOH3bCl26jhvlnmkiFkSmoG",
      "include_colab_link": true
    },
    "kernelspec": {
      "name": "python3",
      "display_name": "Python 3"
    },
    "language_info": {
      "name": "python"
    }
  },
  "cells": [
    {
      "cell_type": "markdown",
      "metadata": {
        "id": "view-in-github",
        "colab_type": "text"
      },
      "source": [
        "<a href=\"https://colab.research.google.com/github/Songram-Biswas/bart-text-summarization/blob/main/main.ipynb\" target=\"_parent\"><img src=\"https://colab.research.google.com/assets/colab-badge.svg\" alt=\"Open In Colab\"/></a>"
      ]
    },
    {
      "cell_type": "code",
      "execution_count": null,
      "metadata": {
        "id": "987F8l4h6W4d"
      },
      "outputs": [],
      "source": [
        "!pip install transformers datasets accelerate\n",
        "# 'evaluate' and 'scikit-learn' are not strictly needed for summarization (which uses ROUGE)\n",
        "\n",
        "from datasets import load_dataset\n",
        "from transformers import (\n",
        "    AutoTokenizer,\n",
        "    AutoModelForSeq2SeqLM,\n",
        "    TrainingArguments,\n",
        "    Trainer,\n",
        "    DataCollatorForSeq2Seq # Import the correct collator for Seq2Seq tasks\n",
        ")\n",
        "\n",
        "# 1. Load dataset (CNN/DailyMail summarization)\n",
        "print(\"Loading CNN/DailyMail dataset...\")\n",
        "dataset = load_dataset(\"cnn_dailymail\", \"3.0.0\")\n",
        "\n",
        "# 2. Load tokenizer & model\n",
        "checkpoint = \"facebook/bart-base\"\n",
        "tokenizer = AutoTokenizer.from_pretrained(checkpoint)\n",
        "model = AutoModelForSeq2SeqLM.from_pretrained(checkpoint)\n",
        "\n",
        "# --- Define the Seq2Seq Data Collator ---\n",
        "# This collator handles padding for both the input and the labels (targets).\n",
        "data_collator = DataCollatorForSeq2Seq(tokenizer, model=model)\n",
        "\n",
        "\n",
        "# 3. Preprocess (Article to Highlights)\n",
        "def preprocess_function(examples):\n",
        "    # Tokenize the input article\n",
        "    model_inputs = tokenizer(examples[\"article\"], max_length=512, truncation=True)\n",
        "\n",
        "    # Tokenize the target summary (highlights) using the correct argument\n",
        "    # FIX: Replaced 'as_target_tokenizer()' with the modern 'text_target' argument\n",
        "    labels = tokenizer(text_target=examples[\"highlights\"], max_length=128, truncation=True)\n",
        "\n",
        "    model_inputs[\"labels\"] = labels[\"input_ids\"]\n",
        "    return model_inputs\n",
        "\n",
        "print(\"Tokenizing and preprocessing 1000 training examples...\")\n",
        "tokenized_datasets = dataset[\"train\"].select(range(1000)).map(\n",
        "    preprocess_function,\n",
        "    batched=True,\n",
        "    remove_columns=dataset[\"train\"].column_names # Remove raw text columns to clean up\n",
        ")\n",
        "\n",
        "# 4. Training\n",
        "# FIX: 'evaluation_strategy' changed to 'eval_strategy'\n",
        "args = TrainingArguments(\n",
        "    output_dir=\"results-sum\",\n",
        "    eval_strategy=\"no\",             # <-- FIXED THE KEYWORD\n",
        "    learning_rate=2e-5,\n",
        "    per_device_train_batch_size=4,\n",
        "    num_train_epochs=1,\n",
        "    weight_decay=0.01,\n",
        "    save_total_limit=2,\n",
        "    fp16=True, # Recommended for Colab/GPU\n",
        "    report_to=\"none\"\n",
        ")\n",
        "\n",
        "trainer = Trainer(\n",
        "    model=model,\n",
        "    args=args,\n",
        "    train_dataset=tokenized_datasets,\n",
        "    tokenizer=tokenizer,\n",
        "    data_collator=data_collator, # Pass the Seq2Seq collator\n",
        ")\n",
        "\n",
        "print(\"\\n--- Starting Fine-Tuning ---\\n\")\n",
        "trainer.train()\n",
        "\n",
        "# 5. Test summarization\n",
        "text = dataset[\"test\"][0][\"article\"]\n",
        "inputs = tokenizer(text, return_tensors=\"pt\", max_length=512, truncation=True).to(model.device) # Move to model device\n",
        "summary_ids = model.generate(\n",
        "    inputs[\"input_ids\"],\n",
        "    max_length=80,\n",
        "    min_length=30,\n",
        "    length_penalty=2.0,\n",
        "    num_beams=4, # Use beam search for better quality\n",
        ")\n",
        "print(\"\\n--- Generated Summary ---\\n\")\n",
        "print(\"Article (First 400 chars):\", text[:400])\n",
        "print(\"\\nReference Summary:\", dataset[\"test\"][0][\"highlights\"])\n",
        "print(\"\\nGenerated Summary:\", tokenizer.decode(summary_ids[0], skip_special_tokens=True))"
      ]
    }
  ]
}